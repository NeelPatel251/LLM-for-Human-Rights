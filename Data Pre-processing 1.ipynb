{
 "cells": [
  {
   "cell_type": "code",
   "execution_count": 16,
   "id": "fc7c8430",
   "metadata": {},
   "outputs": [],
   "source": [
    "# import os\n",
    "# import csv\n",
    "\n",
    "# # Paths to your merged dataset folder (merged Dataset1, Dataset2, and Dataset4)\n",
    "# folder_path = 'Final_Dataset 1'\n",
    "\n",
    "# # CSV file to save the data\n",
    "# output_csv = 'Dataset1.csv'\n",
    "\n",
    "# # Create the CSV file and write the header\n",
    "# with open(output_csv, mode='w', newline='', encoding='utf-8') as file:\n",
    "#     writer = csv.writer(file)\n",
    "#     writer.writerow(['Content'])\n",
    "    \n",
    "#     # Iterate through each file in the merged dataset folder\n",
    "#     for filename in os.listdir(folder_path):\n",
    "#         if filename.endswith('.txt'):\n",
    "#             file_path = os.path.join(folder_path, filename)\n",
    "            \n",
    "#             # Read the content of the file\n",
    "#             with open(file_path, 'r', encoding='utf-8') as f:\n",
    "#                 content = f.read().strip()\n",
    "                \n",
    "#                 # Write the content to the CSV file\n",
    "#                 writer.writerow([content])\n",
    "\n",
    "# print(f'Merged dataset has been successfully converted to {output_csv}')"
   ]
  },
  {
   "cell_type": "code",
   "execution_count": 17,
   "id": "628495f1",
   "metadata": {},
   "outputs": [],
   "source": [
    "import pandas as pd\n",
    "df = pd.read_csv(\"Dataset1.csv\")"
   ]
  },
  {
   "cell_type": "code",
   "execution_count": 18,
   "id": "f1341ca7",
   "metadata": {},
   "outputs": [
    {
     "data": {
      "text/html": [
       "<div>\n",
       "<style scoped>\n",
       "    .dataframe tbody tr th:only-of-type {\n",
       "        vertical-align: middle;\n",
       "    }\n",
       "\n",
       "    .dataframe tbody tr th {\n",
       "        vertical-align: top;\n",
       "    }\n",
       "\n",
       "    .dataframe thead th {\n",
       "        text-align: right;\n",
       "    }\n",
       "</style>\n",
       "<table border=\"1\" class=\"dataframe\">\n",
       "  <thead>\n",
       "    <tr style=\"text-align: right;\">\n",
       "      <th></th>\n",
       "      <th>Content</th>\n",
       "    </tr>\n",
       "  </thead>\n",
       "  <tbody>\n",
       "    <tr>\n",
       "      <th>0</th>\n",
       "      <td>All human beings are born free and equal in di...</td>\n",
       "    </tr>\n",
       "    <tr>\n",
       "      <th>1</th>\n",
       "      <td>Everyone is entitled in full equality to a fai...</td>\n",
       "    </tr>\n",
       "    <tr>\n",
       "      <th>2</th>\n",
       "      <td>- Everyone charged with a penal offence has th...</td>\n",
       "    </tr>\n",
       "    <tr>\n",
       "      <th>3</th>\n",
       "      <td>No one shall be subjected to arbitrary interfe...</td>\n",
       "    </tr>\n",
       "    <tr>\n",
       "      <th>4</th>\n",
       "      <td>- Everyone has the right to freedom of movemen...</td>\n",
       "    </tr>\n",
       "  </tbody>\n",
       "</table>\n",
       "</div>"
      ],
      "text/plain": [
       "                                             Content\n",
       "0  All human beings are born free and equal in di...\n",
       "1  Everyone is entitled in full equality to a fai...\n",
       "2  - Everyone charged with a penal offence has th...\n",
       "3  No one shall be subjected to arbitrary interfe...\n",
       "4  - Everyone has the right to freedom of movemen..."
      ]
     },
     "execution_count": 18,
     "metadata": {},
     "output_type": "execute_result"
    }
   ],
   "source": [
    "df.head()"
   ]
  },
  {
   "cell_type": "code",
   "execution_count": 19,
   "id": "05b3ec97",
   "metadata": {},
   "outputs": [
    {
     "data": {
      "text/plain": [
       "'Everyone has the right to freedom of thought, conscience and religion; this right includes freedom to change his religion or belief, and freedom, either alone or in community with others and in public or private, to manifest his religion or belief in teaching, practice, worship and observance.'"
      ]
     },
     "execution_count": 19,
     "metadata": {},
     "output_type": "execute_result"
    }
   ],
   "source": [
    "df[\"Content\"][9]"
   ]
  },
  {
   "cell_type": "code",
   "execution_count": 20,
   "id": "905c2c16",
   "metadata": {},
   "outputs": [
    {
     "data": {
      "text/plain": [
       "(91, 1)"
      ]
     },
     "execution_count": 20,
     "metadata": {},
     "output_type": "execute_result"
    }
   ],
   "source": [
    "df.shape"
   ]
  },
  {
   "cell_type": "code",
   "execution_count": 21,
   "id": "855e75a7",
   "metadata": {},
   "outputs": [],
   "source": [
    "import re\n",
    "import nltk\n",
    "from nltk.corpus import stopwords\n",
    "from nltk.stem import WordNetLemmatizer\n",
    "from nltk.tokenize import word_tokenize"
   ]
  },
  {
   "cell_type": "code",
   "execution_count": 22,
   "id": "60fbca2d",
   "metadata": {},
   "outputs": [
    {
     "name": "stderr",
     "output_type": "stream",
     "text": [
      "[nltk_data] Downloading package stopwords to\n",
      "[nltk_data]     C:\\Users\\Lenovo\\AppData\\Roaming\\nltk_data...\n",
      "[nltk_data]   Package stopwords is already up-to-date!\n",
      "[nltk_data] Downloading package wordnet to\n",
      "[nltk_data]     C:\\Users\\Lenovo\\AppData\\Roaming\\nltk_data...\n",
      "[nltk_data]   Package wordnet is already up-to-date!\n",
      "[nltk_data] Downloading package punkt to\n",
      "[nltk_data]     C:\\Users\\Lenovo\\AppData\\Roaming\\nltk_data...\n",
      "[nltk_data]   Package punkt is already up-to-date!\n"
     ]
    }
   ],
   "source": [
    "# Download necessary NLTK resources\n",
    "nltk.download('stopwords')\n",
    "nltk.download('wordnet')\n",
    "nltk.download('punkt')\n",
    "\n",
    "# Load Dataset1\n",
    "df = pd.read_csv('dataset1.csv')\n",
    "\n",
    "# Ensure all entries are strings\n",
    "df['Content'] = df['Content'].astype(str)\n",
    "\n",
    "# Initialize stopwords and lemmatizer\n",
    "stop = set(stopwords.words('english'))\n",
    "lemmatizer = WordNetLemmatizer()\n",
    "\n",
    "# Apply basic preprocessing\n",
    "df['Preprocessed_Content'] = df['Content'].str.lower()  # Convert to lowercase\n",
    "df['Preprocessed_Content'] = df['Preprocessed_Content'].apply(lambda x: re.sub(r'[^\\w\\s]', '', x))  # Remove punctuation\n",
    "df['Preprocessed_Content'] = df['Preprocessed_Content'].apply(lambda x: ' '.join([word for word in x.split() if word not in stop]))  # Remove stopwords\n",
    "\n",
    "# Apply advanced preprocessing\n",
    "df['Preprocessed_Content'] = df['Preprocessed_Content'].apply(lambda x: ' '.join([lemmatizer.lemmatize(word) for word in word_tokenize(x)]))  # Lemmatization\n"
   ]
  },
  {
   "cell_type": "code",
   "execution_count": 23,
   "id": "4d25e1d2",
   "metadata": {},
   "outputs": [
    {
     "data": {
      "text/html": [
       "<div>\n",
       "<style scoped>\n",
       "    .dataframe tbody tr th:only-of-type {\n",
       "        vertical-align: middle;\n",
       "    }\n",
       "\n",
       "    .dataframe tbody tr th {\n",
       "        vertical-align: top;\n",
       "    }\n",
       "\n",
       "    .dataframe thead th {\n",
       "        text-align: right;\n",
       "    }\n",
       "</style>\n",
       "<table border=\"1\" class=\"dataframe\">\n",
       "  <thead>\n",
       "    <tr style=\"text-align: right;\">\n",
       "      <th></th>\n",
       "      <th>Content</th>\n",
       "      <th>Preprocessed_Content</th>\n",
       "    </tr>\n",
       "  </thead>\n",
       "  <tbody>\n",
       "    <tr>\n",
       "      <th>0</th>\n",
       "      <td>All human beings are born free and equal in di...</td>\n",
       "      <td>human being born free equal dignity right endo...</td>\n",
       "    </tr>\n",
       "    <tr>\n",
       "      <th>1</th>\n",
       "      <td>Everyone is entitled in full equality to a fai...</td>\n",
       "      <td>everyone entitled full equality fair public he...</td>\n",
       "    </tr>\n",
       "    <tr>\n",
       "      <th>2</th>\n",
       "      <td>- Everyone charged with a penal offence has th...</td>\n",
       "      <td>everyone charged penal offence right presumed ...</td>\n",
       "    </tr>\n",
       "    <tr>\n",
       "      <th>3</th>\n",
       "      <td>No one shall be subjected to arbitrary interfe...</td>\n",
       "      <td>one shall subjected arbitrary interference pri...</td>\n",
       "    </tr>\n",
       "    <tr>\n",
       "      <th>4</th>\n",
       "      <td>- Everyone has the right to freedom of movemen...</td>\n",
       "      <td>everyone right freedom movement residence with...</td>\n",
       "    </tr>\n",
       "  </tbody>\n",
       "</table>\n",
       "</div>"
      ],
      "text/plain": [
       "                                             Content  \\\n",
       "0  All human beings are born free and equal in di...   \n",
       "1  Everyone is entitled in full equality to a fai...   \n",
       "2  - Everyone charged with a penal offence has th...   \n",
       "3  No one shall be subjected to arbitrary interfe...   \n",
       "4  - Everyone has the right to freedom of movemen...   \n",
       "\n",
       "                                Preprocessed_Content  \n",
       "0  human being born free equal dignity right endo...  \n",
       "1  everyone entitled full equality fair public he...  \n",
       "2  everyone charged penal offence right presumed ...  \n",
       "3  one shall subjected arbitrary interference pri...  \n",
       "4  everyone right freedom movement residence with...  "
      ]
     },
     "execution_count": 23,
     "metadata": {},
     "output_type": "execute_result"
    }
   ],
   "source": [
    "df.head()"
   ]
  },
  {
   "cell_type": "code",
   "execution_count": 24,
   "id": "909d7c19",
   "metadata": {},
   "outputs": [
    {
     "name": "stdout",
     "output_type": "stream",
     "text": [
      "Combined preprocessing for Dataset1 completed and saved to 'preprocessed_dataset1.csv'\n"
     ]
    }
   ],
   "source": [
    "# Save the preprocessed dataset\n",
    "df.to_csv('preprocessed_dataset1.csv', index=False)\n",
    "\n",
    "print(\"Combined preprocessing for Dataset1 completed and saved to 'preprocessed_dataset1.csv'\")"
   ]
  },
  {
   "cell_type": "code",
   "execution_count": null,
   "id": "ce0c8ee3",
   "metadata": {},
   "outputs": [],
   "source": []
  }
 ],
 "metadata": {
  "kernelspec": {
   "display_name": "Python 3 (ipykernel)",
   "language": "python",
   "name": "python3"
  },
  "language_info": {
   "codemirror_mode": {
    "name": "ipython",
    "version": 3
   },
   "file_extension": ".py",
   "mimetype": "text/x-python",
   "name": "python",
   "nbconvert_exporter": "python",
   "pygments_lexer": "ipython3",
   "version": "3.9.12"
  }
 },
 "nbformat": 4,
 "nbformat_minor": 5
}
