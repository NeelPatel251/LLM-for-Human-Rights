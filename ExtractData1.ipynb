{
 "cells": [
  {
   "cell_type": "code",
   "execution_count": 1,
   "id": "e19d054b",
   "metadata": {},
   "outputs": [],
   "source": [
    "import requests\n",
    "from bs4 import BeautifulSoup\n",
    "import os\n",
    "\n",
    "# Replace with the actual URL of the website\n",
    "url = 'https://www.un.org/en/about-us/universal-declaration-of-human-rights'\n",
    "\n",
    "# Define headers to mimic a browser request\n",
    "headers = {\n",
    "    'User-Agent': 'Mozilla/5.0 (Windows NT 10.0; Win64; x64) AppleWebKit/537.36 (KHTML, like Gecko) Chrome/91.0.4472.124 Safari/537.36'\n",
    "}\n",
    "\n",
    "# Send a GET request with headers\n",
    "response = requests.get(url, headers=headers)\n",
    "\n",
    "# Create a directory for the output files if it doesn't exist\n",
    "output_dir = 'Dataset1'\n",
    "os.makedirs(output_dir, exist_ok=True)\n",
    "\n",
    "if response.status_code == 200:\n",
    "    soup = BeautifulSoup(response.text, 'html.parser')\n",
    "    \n",
    "    # Find all <h2> tags with the class 'heading-underlined-blue'\n",
    "    headings = soup.find_all('h2', class_='heading-underlined-blue')\n",
    "\n",
    "    for i, heading in enumerate(headings[1:31], 1):\n",
    "        # Define the output file path\n",
    "        file_path = os.path.join(output_dir, f\"A{i}.txt\")\n",
    "        \n",
    "        with open(file_path, 'w', encoding='utf-8') as file:\n",
    "            content = heading.find_next_sibling()\n",
    "\n",
    "            if content and content.name == 'p':\n",
    "                file.write(f\"{content.text.strip()}\\n\")\n",
    "            elif content and content.name == 'ol':\n",
    "                for li in content.find_all('li'):\n",
    "                    file.write(f\"- {li.text.strip()}\\n\")\n",
    "                \n",
    "else:\n",
    "    print(f\"Failed to retrieve the webpage. Status code: {response.status_code}\")\n"
   ]
  },
  {
   "cell_type": "code",
   "execution_count": null,
   "id": "50c5a413",
   "metadata": {},
   "outputs": [],
   "source": []
  },
  {
   "cell_type": "code",
   "execution_count": null,
   "id": "3669e8a9",
   "metadata": {},
   "outputs": [],
   "source": []
  }
 ],
 "metadata": {
  "kernelspec": {
   "display_name": "Python 3 (ipykernel)",
   "language": "python",
   "name": "python3"
  },
  "language_info": {
   "codemirror_mode": {
    "name": "ipython",
    "version": 3
   },
   "file_extension": ".py",
   "mimetype": "text/x-python",
   "name": "python",
   "nbconvert_exporter": "python",
   "pygments_lexer": "ipython3",
   "version": "3.9.12"
  }
 },
 "nbformat": 4,
 "nbformat_minor": 5
}
