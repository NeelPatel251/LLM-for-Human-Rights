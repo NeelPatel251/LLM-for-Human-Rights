{
 "cells": [
  {
   "cell_type": "code",
   "execution_count": 12,
   "id": "bb3b63d3",
   "metadata": {},
   "outputs": [],
   "source": [
    "# import os\n",
    "# import csv\n",
    "\n",
    "# # Path to the Dataset3 folder\n",
    "# folder_path = 'Final_Dataset 2'\n",
    "\n",
    "# # CSV file to save the data\n",
    "# output_csv = 'Dataset2.csv'\n",
    "\n",
    "# # Create the CSV file and write the header\n",
    "# with open(output_csv, mode='w', newline='', encoding='utf-8') as file:\n",
    "#     writer = csv.writer(file)\n",
    "#     writer.writerow(['Title', 'Description'])\n",
    "    \n",
    "#     # Iterate through each file in the Dataset3 folder\n",
    "#     for filename in os.listdir(folder_path):\n",
    "#         if filename.endswith('.txt'):\n",
    "#             file_path = os.path.join(folder_path, filename)\n",
    "            \n",
    "#             # Read the content of the file\n",
    "#             with open(file_path, 'r', encoding='utf-8') as f:\n",
    "#                 content = f.read()\n",
    "                \n",
    "#                 # Split the content based on Title and Description\n",
    "#                 lines = content.splitlines()\n",
    "                \n",
    "#                 if len(lines) >= 2:\n",
    "#                     title = lines[0].replace('Title:', '').strip()\n",
    "#                     description = \" \".join(lines[1:]).replace('Desc:', '').strip()\n",
    "                    \n",
    "#                     # Write to the CSV file\n",
    "#                     writer.writerow([title, description])\n",
    "#                 else:\n",
    "#                     print(f\"File {filename} does not have the expected format.\")\n",
    "\n",
    "# print(f'Dataset3 has been successfully converted to {output_csv}')"
   ]
  },
  {
   "cell_type": "code",
   "execution_count": 1,
   "id": "0785f9c9",
   "metadata": {},
   "outputs": [],
   "source": [
    "import pandas as pd"
   ]
  },
  {
   "cell_type": "code",
   "execution_count": 2,
   "id": "69c5b901",
   "metadata": {},
   "outputs": [],
   "source": [
    "df = pd.read_csv(\"Dataset2.csv\")"
   ]
  },
  {
   "cell_type": "code",
   "execution_count": 3,
   "id": "bbca1043",
   "metadata": {},
   "outputs": [
    {
     "data": {
      "text/html": [
       "<div>\n",
       "<style scoped>\n",
       "    .dataframe tbody tr th:only-of-type {\n",
       "        vertical-align: middle;\n",
       "    }\n",
       "\n",
       "    .dataframe tbody tr th {\n",
       "        vertical-align: top;\n",
       "    }\n",
       "\n",
       "    .dataframe thead th {\n",
       "        text-align: right;\n",
       "    }\n",
       "</style>\n",
       "<table border=\"1\" class=\"dataframe\">\n",
       "  <thead>\n",
       "    <tr style=\"text-align: right;\">\n",
       "      <th></th>\n",
       "      <th>Title</th>\n",
       "      <th>Description</th>\n",
       "    </tr>\n",
       "  </thead>\n",
       "  <tbody>\n",
       "    <tr>\n",
       "      <th>0</th>\n",
       "      <td>Power of High Courts to issue certain writs</td>\n",
       "      <td>(1) Notwithstanding anything in Article 32 eve...</td>\n",
       "    </tr>\n",
       "    <tr>\n",
       "      <th>1</th>\n",
       "      <td>Equality of opportunity in matters of public e...</td>\n",
       "      <td>(1) There shall be equality of opportunity for...</td>\n",
       "    </tr>\n",
       "    <tr>\n",
       "      <th>2</th>\n",
       "      <td>State to secure a social order for the promoti...</td>\n",
       "      <td>1 (1) The State shall strive to promote the we...</td>\n",
       "    </tr>\n",
       "    <tr>\n",
       "      <th>3</th>\n",
       "      <td>Grounds for setting aside award</td>\n",
       "      <td>An award shall not be set aside except on one ...</td>\n",
       "    </tr>\n",
       "    <tr>\n",
       "      <th>4</th>\n",
       "      <td>Matters to be considered in determining compen...</td>\n",
       "      <td>(1) In determining the amount of compensation ...</td>\n",
       "    </tr>\n",
       "  </tbody>\n",
       "</table>\n",
       "</div>"
      ],
      "text/plain": [
       "                                               Title  \\\n",
       "0        Power of High Courts to issue certain writs   \n",
       "1  Equality of opportunity in matters of public e...   \n",
       "2  State to secure a social order for the promoti...   \n",
       "3                    Grounds for setting aside award   \n",
       "4  Matters to be considered in determining compen...   \n",
       "\n",
       "                                         Description  \n",
       "0  (1) Notwithstanding anything in Article 32 eve...  \n",
       "1  (1) There shall be equality of opportunity for...  \n",
       "2  1 (1) The State shall strive to promote the we...  \n",
       "3  An award shall not be set aside except on one ...  \n",
       "4  (1) In determining the amount of compensation ...  "
      ]
     },
     "execution_count": 3,
     "metadata": {},
     "output_type": "execute_result"
    }
   ],
   "source": [
    "df.head()"
   ]
  },
  {
   "cell_type": "code",
   "execution_count": 4,
   "id": "3059fcd6",
   "metadata": {},
   "outputs": [
    {
     "name": "stdout",
     "output_type": "stream",
     "text": [
      "Power of High Courts to issue certain writs\n",
      "\n",
      "(1) Notwithstanding anything in Article 32 every High Court shall have powers, throughout the territories in relation to which it exercise jurisdiction, to issue to any person or authority, including in appropriate cases, any Government, within those territories directions, orders or writs, including writs in the nature of habeas corpus, mandamus, prohibitions, quo warranto and certiorari, or any of them, for the enforcement of any of the rights conferred by Part III and for any other purpose (2) The power conferred by clause ( 1 ) to issue directions, orders or writs to any Government, authority or person may also be exercised by any High Court exercising jurisdiction in relation to the territories within which the cause of action, wholly or in part, arises for the exercise of such power, notwithstanding that the seat of such Government or authority or the residence of such person is not within those territories (3) Where any party against whom an interim order, whether by way of injunction or stay or in any other manner, is made on, or in any proceedings relating to, a petition under clause ( 1 ), without (a) furnishing to such party copies of such petition and all documents in support of the plea for such interim order; and (b) giving such party an opportunity of being heard, makes an application to the High Court for the vacation of such order and furnishes a copy of such application to the party in whose favour such order has been made or the counsel of such party, the High Court shall dispose of the application within a period of two weeks from the date on which it is received or from the date on which the copy of such application is so furnished, whichever is later, or where the High Court is closed on the last day of that period, before the expiry of the next day afterwards on which the High Court is open; and if the application is not so disposed of, the interim order shall, on the expiry of that period, or, as the case may be, the expiry of the aid next day, stand vacated (4) The power conferred on a High Court by this article shall not be in derogation of the power conferred on the Supreme court by clause ( 2 ) of Article 32\n"
     ]
    }
   ],
   "source": [
    "print(df[\"Title\"][0])\n",
    "print()\n",
    "print(df[\"Description\"][0])"
   ]
  },
  {
   "cell_type": "code",
   "execution_count": 5,
   "id": "dc110e91",
   "metadata": {},
   "outputs": [
    {
     "data": {
      "text/plain": [
       "(197, 2)"
      ]
     },
     "execution_count": 5,
     "metadata": {},
     "output_type": "execute_result"
    }
   ],
   "source": [
    "df.shape"
   ]
  },
  {
   "cell_type": "code",
   "execution_count": 6,
   "id": "4b236476",
   "metadata": {},
   "outputs": [],
   "source": [
    "import re\n",
    "import nltk\n",
    "from nltk.corpus import stopwords\n",
    "from nltk.stem import WordNetLemmatizer\n",
    "from nltk.tokenize import word_tokenize"
   ]
  },
  {
   "cell_type": "code",
   "execution_count": 7,
   "id": "df30f69f",
   "metadata": {},
   "outputs": [
    {
     "data": {
      "text/html": [
       "<div>\n",
       "<style scoped>\n",
       "    .dataframe tbody tr th:only-of-type {\n",
       "        vertical-align: middle;\n",
       "    }\n",
       "\n",
       "    .dataframe tbody tr th {\n",
       "        vertical-align: top;\n",
       "    }\n",
       "\n",
       "    .dataframe thead th {\n",
       "        text-align: right;\n",
       "    }\n",
       "</style>\n",
       "<table border=\"1\" class=\"dataframe\">\n",
       "  <thead>\n",
       "    <tr style=\"text-align: right;\">\n",
       "      <th></th>\n",
       "      <th>Title</th>\n",
       "      <th>Description</th>\n",
       "    </tr>\n",
       "  </thead>\n",
       "  <tbody>\n",
       "    <tr>\n",
       "      <th>0</th>\n",
       "      <td>Power of High Courts to issue certain writs</td>\n",
       "      <td>(1) Notwithstanding anything in Article 32 eve...</td>\n",
       "    </tr>\n",
       "    <tr>\n",
       "      <th>1</th>\n",
       "      <td>Equality of opportunity in matters of public e...</td>\n",
       "      <td>(1) There shall be equality of opportunity for...</td>\n",
       "    </tr>\n",
       "    <tr>\n",
       "      <th>2</th>\n",
       "      <td>State to secure a social order for the promoti...</td>\n",
       "      <td>1 (1) The State shall strive to promote the we...</td>\n",
       "    </tr>\n",
       "    <tr>\n",
       "      <th>3</th>\n",
       "      <td>Grounds for setting aside award</td>\n",
       "      <td>An award shall not be set aside except on one ...</td>\n",
       "    </tr>\n",
       "    <tr>\n",
       "      <th>4</th>\n",
       "      <td>Matters to be considered in determining compen...</td>\n",
       "      <td>(1) In determining the amount of compensation ...</td>\n",
       "    </tr>\n",
       "  </tbody>\n",
       "</table>\n",
       "</div>"
      ],
      "text/plain": [
       "                                               Title  \\\n",
       "0        Power of High Courts to issue certain writs   \n",
       "1  Equality of opportunity in matters of public e...   \n",
       "2  State to secure a social order for the promoti...   \n",
       "3                    Grounds for setting aside award   \n",
       "4  Matters to be considered in determining compen...   \n",
       "\n",
       "                                         Description  \n",
       "0  (1) Notwithstanding anything in Article 32 eve...  \n",
       "1  (1) There shall be equality of opportunity for...  \n",
       "2  1 (1) The State shall strive to promote the we...  \n",
       "3  An award shall not be set aside except on one ...  \n",
       "4  (1) In determining the amount of compensation ...  "
      ]
     },
     "execution_count": 7,
     "metadata": {},
     "output_type": "execute_result"
    }
   ],
   "source": [
    "df.head()"
   ]
  },
  {
   "cell_type": "code",
   "execution_count": 8,
   "id": "e0d86f0a",
   "metadata": {},
   "outputs": [
    {
     "name": "stderr",
     "output_type": "stream",
     "text": [
      "[nltk_data] Downloading package stopwords to\n",
      "[nltk_data]     C:\\Users\\Lenovo\\AppData\\Roaming\\nltk_data...\n",
      "[nltk_data]   Package stopwords is already up-to-date!\n",
      "[nltk_data] Downloading package wordnet to\n",
      "[nltk_data]     C:\\Users\\Lenovo\\AppData\\Roaming\\nltk_data...\n",
      "[nltk_data]   Package wordnet is already up-to-date!\n",
      "[nltk_data] Downloading package punkt to\n",
      "[nltk_data]     C:\\Users\\Lenovo\\AppData\\Roaming\\nltk_data...\n",
      "[nltk_data]   Package punkt is already up-to-date!\n"
     ]
    }
   ],
   "source": [
    "# Download necessary NLTK resources\n",
    "nltk.download('stopwords')\n",
    "nltk.download('wordnet')\n",
    "nltk.download('punkt')\n",
    "\n",
    "# Ensure all entries are strings\n",
    "df['Title'] = df['Title'].astype(str)\n",
    "df['Description'] = df['Description'].astype(str)\n",
    "\n",
    "# Initialize stopwords and lemmatizer\n",
    "stop = set(stopwords.words('english'))\n",
    "lemmatizer = WordNetLemmatizer()\n",
    "\n",
    "# Apply basic preprocessing\n",
    "df['Preprocessed_Title'] = df['Title'].str.lower()  # Convert to lowercase\n",
    "df['Preprocessed_Description'] = df['Description'].str.lower()  # Convert to lowercase\n",
    "\n",
    "df['Preprocessed_Title'] = df['Preprocessed_Title'].apply(lambda x: re.sub(r'[^\\w\\s]', '', x))  # Remove punctuation\n",
    "df['Preprocessed_Description'] = df['Preprocessed_Description'].apply(lambda x: re.sub(r'[^\\w\\s]', '', x))  # Remove punctuation\n",
    "\n",
    "df['Preprocessed_Title'] = df['Preprocessed_Title'].apply(lambda x: ' '.join([word for word in x.split() if word not in stop]))  # Remove stopwords\n",
    "df['Preprocessed_Description'] = df['Preprocessed_Description'].apply(lambda x: ' '.join([word for word in x.split() if word not in stop]))  # Remove stopwords\n",
    "\n",
    "# Apply advanced preprocessing\n",
    "df['Preprocessed_Title'] = df['Preprocessed_Title'].apply(lambda x: ' '.join([lemmatizer.lemmatize(word) for word in word_tokenize(x)]))  # Lemmatization\n",
    "df['Preprocessed_Description'] = df['Preprocessed_Description'].apply(lambda x: ' '.join([lemmatizer.lemmatize(word) for word in word_tokenize(x)]))  # Lemmatization"
   ]
  },
  {
   "cell_type": "code",
   "execution_count": 9,
   "id": "6de5868b",
   "metadata": {},
   "outputs": [
    {
     "data": {
      "text/html": [
       "<div>\n",
       "<style scoped>\n",
       "    .dataframe tbody tr th:only-of-type {\n",
       "        vertical-align: middle;\n",
       "    }\n",
       "\n",
       "    .dataframe tbody tr th {\n",
       "        vertical-align: top;\n",
       "    }\n",
       "\n",
       "    .dataframe thead th {\n",
       "        text-align: right;\n",
       "    }\n",
       "</style>\n",
       "<table border=\"1\" class=\"dataframe\">\n",
       "  <thead>\n",
       "    <tr style=\"text-align: right;\">\n",
       "      <th></th>\n",
       "      <th>Title</th>\n",
       "      <th>Description</th>\n",
       "      <th>Preprocessed_Title</th>\n",
       "      <th>Preprocessed_Description</th>\n",
       "    </tr>\n",
       "  </thead>\n",
       "  <tbody>\n",
       "    <tr>\n",
       "      <th>0</th>\n",
       "      <td>Power of High Courts to issue certain writs</td>\n",
       "      <td>(1) Notwithstanding anything in Article 32 eve...</td>\n",
       "      <td>power high court issue certain writ</td>\n",
       "      <td>1 notwithstanding anything article 32 every hi...</td>\n",
       "    </tr>\n",
       "    <tr>\n",
       "      <th>1</th>\n",
       "      <td>Equality of opportunity in matters of public e...</td>\n",
       "      <td>(1) There shall be equality of opportunity for...</td>\n",
       "      <td>equality opportunity matter public employment</td>\n",
       "      <td>1 shall equality opportunity citizen matter re...</td>\n",
       "    </tr>\n",
       "    <tr>\n",
       "      <th>2</th>\n",
       "      <td>State to secure a social order for the promoti...</td>\n",
       "      <td>1 (1) The State shall strive to promote the we...</td>\n",
       "      <td>state secure social order promotion welfare pe...</td>\n",
       "      <td>1 1 state shall strive promote welfare people ...</td>\n",
       "    </tr>\n",
       "    <tr>\n",
       "      <th>3</th>\n",
       "      <td>Grounds for setting aside award</td>\n",
       "      <td>An award shall not be set aside except on one ...</td>\n",
       "      <td>ground setting aside award</td>\n",
       "      <td>award shall set aside except one following gro...</td>\n",
       "    </tr>\n",
       "    <tr>\n",
       "      <th>4</th>\n",
       "      <td>Matters to be considered in determining compen...</td>\n",
       "      <td>(1) In determining the amount of compensation ...</td>\n",
       "      <td>matter considered determining compensation</td>\n",
       "      <td>1 determining amount compensation awarded land...</td>\n",
       "    </tr>\n",
       "  </tbody>\n",
       "</table>\n",
       "</div>"
      ],
      "text/plain": [
       "                                               Title  \\\n",
       "0        Power of High Courts to issue certain writs   \n",
       "1  Equality of opportunity in matters of public e...   \n",
       "2  State to secure a social order for the promoti...   \n",
       "3                    Grounds for setting aside award   \n",
       "4  Matters to be considered in determining compen...   \n",
       "\n",
       "                                         Description  \\\n",
       "0  (1) Notwithstanding anything in Article 32 eve...   \n",
       "1  (1) There shall be equality of opportunity for...   \n",
       "2  1 (1) The State shall strive to promote the we...   \n",
       "3  An award shall not be set aside except on one ...   \n",
       "4  (1) In determining the amount of compensation ...   \n",
       "\n",
       "                                  Preprocessed_Title  \\\n",
       "0                power high court issue certain writ   \n",
       "1      equality opportunity matter public employment   \n",
       "2  state secure social order promotion welfare pe...   \n",
       "3                         ground setting aside award   \n",
       "4         matter considered determining compensation   \n",
       "\n",
       "                            Preprocessed_Description  \n",
       "0  1 notwithstanding anything article 32 every hi...  \n",
       "1  1 shall equality opportunity citizen matter re...  \n",
       "2  1 1 state shall strive promote welfare people ...  \n",
       "3  award shall set aside except one following gro...  \n",
       "4  1 determining amount compensation awarded land...  "
      ]
     },
     "execution_count": 9,
     "metadata": {},
     "output_type": "execute_result"
    }
   ],
   "source": [
    "df.head()"
   ]
  },
  {
   "cell_type": "code",
   "execution_count": 10,
   "id": "07d3a190",
   "metadata": {},
   "outputs": [],
   "source": [
    "# Save the preprocessed dataset\n",
    "df.to_csv('preprocessed_dataset2.csv', index=False)"
   ]
  },
  {
   "cell_type": "code",
   "execution_count": null,
   "id": "f0b7f3ea",
   "metadata": {},
   "outputs": [],
   "source": []
  }
 ],
 "metadata": {
  "kernelspec": {
   "display_name": "Python 3 (ipykernel)",
   "language": "python",
   "name": "python3"
  },
  "language_info": {
   "codemirror_mode": {
    "name": "ipython",
    "version": 3
   },
   "file_extension": ".py",
   "mimetype": "text/x-python",
   "name": "python",
   "nbconvert_exporter": "python",
   "pygments_lexer": "ipython3",
   "version": "3.9.12"
  }
 },
 "nbformat": 4,
 "nbformat_minor": 5
}
